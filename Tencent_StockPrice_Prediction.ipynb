{
  "cells": [
    {
      "cell_type": "markdown",
      "metadata": {
        "id": "3OEpRnYXUQsa"
      },
      "source": [
        "# **Predict an equity price trend using LSTM**\n",
        "To predict the price of a stock in Hong Kong based on the current Adjusted Close Price.\n",
        "Using the Long Short Term Memory (LSTM) to predict the closing price of Tencent based on the past 50 days of stock price."
      ]
    },
    {
      "cell_type": "markdown",
      "metadata": {
        "id": "Rj0uC2pR0D7Y"
      },
      "source": [
        "# **Predicting the Adjusted Closing Price of Tencent**\n",
        "Using the Long Short Term Memory (LSTM) to predict the Adjusted Closing Price of a company Tencent (0700) based on the past 50 days of its Adjusted Closing Price. Using the period between 2005-01-03 to 2020-12-04 as training data."
      ]
    },
    {
      "cell_type": "code",
      "source": [
        "!pip install yfinance"
      ],
      "metadata": {
        "colab": {
          "base_uri": "https://localhost:8080/"
        },
        "id": "Iybjj2uYZIn0",
        "outputId": "8dd8d88f-b016-4ef1-c4be-ac3aa98be2c0"
      },
      "execution_count": 2,
      "outputs": [
        {
          "output_type": "stream",
          "name": "stdout",
          "text": [
            "Collecting yfinance\n",
            "  Downloading yfinance-0.1.70-py2.py3-none-any.whl (26 kB)\n",
            "Requirement already satisfied: multitasking>=0.0.7 in /usr/local/lib/python3.7/dist-packages (from yfinance) (0.0.10)\n",
            "Collecting requests>=2.26\n",
            "  Downloading requests-2.27.1-py2.py3-none-any.whl (63 kB)\n",
            "\u001b[K     |████████████████████████████████| 63 kB 859 kB/s \n",
            "\u001b[?25hRequirement already satisfied: pandas>=0.24.0 in /usr/local/lib/python3.7/dist-packages (from yfinance) (1.3.5)\n",
            "Requirement already satisfied: numpy>=1.15 in /usr/local/lib/python3.7/dist-packages (from yfinance) (1.21.5)\n",
            "Collecting lxml>=4.5.1\n",
            "  Downloading lxml-4.8.0-cp37-cp37m-manylinux_2_17_x86_64.manylinux2014_x86_64.manylinux_2_24_x86_64.whl (6.4 MB)\n",
            "\u001b[K     |████████████████████████████████| 6.4 MB 33.6 MB/s \n",
            "\u001b[?25hRequirement already satisfied: python-dateutil>=2.7.3 in /usr/local/lib/python3.7/dist-packages (from pandas>=0.24.0->yfinance) (2.8.2)\n",
            "Requirement already satisfied: pytz>=2017.3 in /usr/local/lib/python3.7/dist-packages (from pandas>=0.24.0->yfinance) (2018.9)\n",
            "Requirement already satisfied: six>=1.5 in /usr/local/lib/python3.7/dist-packages (from python-dateutil>=2.7.3->pandas>=0.24.0->yfinance) (1.15.0)\n",
            "Requirement already satisfied: urllib3<1.27,>=1.21.1 in /usr/local/lib/python3.7/dist-packages (from requests>=2.26->yfinance) (1.24.3)\n",
            "Requirement already satisfied: charset-normalizer~=2.0.0 in /usr/local/lib/python3.7/dist-packages (from requests>=2.26->yfinance) (2.0.12)\n",
            "Requirement already satisfied: idna<4,>=2.5 in /usr/local/lib/python3.7/dist-packages (from requests>=2.26->yfinance) (2.10)\n",
            "Requirement already satisfied: certifi>=2017.4.17 in /usr/local/lib/python3.7/dist-packages (from requests>=2.26->yfinance) (2021.10.8)\n",
            "Installing collected packages: requests, lxml, yfinance\n",
            "  Attempting uninstall: requests\n",
            "    Found existing installation: requests 2.23.0\n",
            "    Uninstalling requests-2.23.0:\n",
            "      Successfully uninstalled requests-2.23.0\n",
            "  Attempting uninstall: lxml\n",
            "    Found existing installation: lxml 4.2.6\n",
            "    Uninstalling lxml-4.2.6:\n",
            "      Successfully uninstalled lxml-4.2.6\n",
            "\u001b[31mERROR: pip's dependency resolver does not currently take into account all the packages that are installed. This behaviour is the source of the following dependency conflicts.\n",
            "google-colab 1.0.0 requires requests~=2.23.0, but you have requests 2.27.1 which is incompatible.\n",
            "datascience 0.10.6 requires folium==0.2.1, but you have folium 0.8.3 which is incompatible.\u001b[0m\n",
            "Successfully installed lxml-4.8.0 requests-2.27.1 yfinance-0.1.70\n"
          ]
        }
      ]
    },
    {
      "cell_type": "code",
      "execution_count": 3,
      "metadata": {
        "colab": {
          "base_uri": "https://localhost:8080/",
          "height": 472
        },
        "id": "7UA-OUXPiC_Q",
        "outputId": "e3882100-e0c3-4462-c620-e98af8f66d17"
      },
      "outputs": [
        {
          "output_type": "stream",
          "name": "stdout",
          "text": [
            "\r[*********************100%***********************]  1 of 1 completed\n"
          ]
        },
        {
          "output_type": "execute_result",
          "data": {
            "text/plain": [
              "               Open     High      Low    Close   Adj Close    Volume\n",
              "Date                                                                \n",
              "2005-01-03    0.940    0.950    0.925    0.925    0.893928  42585000\n",
              "2005-01-04    0.935    0.960    0.930    0.960    0.927752  82450000\n",
              "2005-01-05    0.950    0.950    0.930    0.940    0.908424  48495000\n",
              "2005-01-06    0.940    0.945    0.930    0.940    0.908424  41089000\n",
              "2005-01-07    0.940    0.950    0.930    0.940    0.908424  37435000\n",
              "...             ...      ...      ...      ...         ...       ...\n",
              "2020-11-27  586.000  594.500  583.000  583.000  581.414917  11181079\n",
              "2020-11-30  582.000  584.500  563.000  563.000  561.469299  32813194\n",
              "2020-12-01  573.000  581.000  571.500  578.000  576.428528  22221870\n",
              "2020-12-02  584.500  584.500  568.000  574.000  572.439392  13475083\n",
              "2020-12-03  584.500  589.000  579.500  589.000  587.398621  15557202\n",
              "\n",
              "[3930 rows x 6 columns]"
            ],
            "text/html": [
              "\n",
              "  <div id=\"df-370f0e63-2e4c-46ae-b4b5-3acbd486680a\">\n",
              "    <div class=\"colab-df-container\">\n",
              "      <div>\n",
              "<style scoped>\n",
              "    .dataframe tbody tr th:only-of-type {\n",
              "        vertical-align: middle;\n",
              "    }\n",
              "\n",
              "    .dataframe tbody tr th {\n",
              "        vertical-align: top;\n",
              "    }\n",
              "\n",
              "    .dataframe thead th {\n",
              "        text-align: right;\n",
              "    }\n",
              "</style>\n",
              "<table border=\"1\" class=\"dataframe\">\n",
              "  <thead>\n",
              "    <tr style=\"text-align: right;\">\n",
              "      <th></th>\n",
              "      <th>Open</th>\n",
              "      <th>High</th>\n",
              "      <th>Low</th>\n",
              "      <th>Close</th>\n",
              "      <th>Adj Close</th>\n",
              "      <th>Volume</th>\n",
              "    </tr>\n",
              "    <tr>\n",
              "      <th>Date</th>\n",
              "      <th></th>\n",
              "      <th></th>\n",
              "      <th></th>\n",
              "      <th></th>\n",
              "      <th></th>\n",
              "      <th></th>\n",
              "    </tr>\n",
              "  </thead>\n",
              "  <tbody>\n",
              "    <tr>\n",
              "      <th>2005-01-03</th>\n",
              "      <td>0.940</td>\n",
              "      <td>0.950</td>\n",
              "      <td>0.925</td>\n",
              "      <td>0.925</td>\n",
              "      <td>0.893928</td>\n",
              "      <td>42585000</td>\n",
              "    </tr>\n",
              "    <tr>\n",
              "      <th>2005-01-04</th>\n",
              "      <td>0.935</td>\n",
              "      <td>0.960</td>\n",
              "      <td>0.930</td>\n",
              "      <td>0.960</td>\n",
              "      <td>0.927752</td>\n",
              "      <td>82450000</td>\n",
              "    </tr>\n",
              "    <tr>\n",
              "      <th>2005-01-05</th>\n",
              "      <td>0.950</td>\n",
              "      <td>0.950</td>\n",
              "      <td>0.930</td>\n",
              "      <td>0.940</td>\n",
              "      <td>0.908424</td>\n",
              "      <td>48495000</td>\n",
              "    </tr>\n",
              "    <tr>\n",
              "      <th>2005-01-06</th>\n",
              "      <td>0.940</td>\n",
              "      <td>0.945</td>\n",
              "      <td>0.930</td>\n",
              "      <td>0.940</td>\n",
              "      <td>0.908424</td>\n",
              "      <td>41089000</td>\n",
              "    </tr>\n",
              "    <tr>\n",
              "      <th>2005-01-07</th>\n",
              "      <td>0.940</td>\n",
              "      <td>0.950</td>\n",
              "      <td>0.930</td>\n",
              "      <td>0.940</td>\n",
              "      <td>0.908424</td>\n",
              "      <td>37435000</td>\n",
              "    </tr>\n",
              "    <tr>\n",
              "      <th>...</th>\n",
              "      <td>...</td>\n",
              "      <td>...</td>\n",
              "      <td>...</td>\n",
              "      <td>...</td>\n",
              "      <td>...</td>\n",
              "      <td>...</td>\n",
              "    </tr>\n",
              "    <tr>\n",
              "      <th>2020-11-27</th>\n",
              "      <td>586.000</td>\n",
              "      <td>594.500</td>\n",
              "      <td>583.000</td>\n",
              "      <td>583.000</td>\n",
              "      <td>581.414917</td>\n",
              "      <td>11181079</td>\n",
              "    </tr>\n",
              "    <tr>\n",
              "      <th>2020-11-30</th>\n",
              "      <td>582.000</td>\n",
              "      <td>584.500</td>\n",
              "      <td>563.000</td>\n",
              "      <td>563.000</td>\n",
              "      <td>561.469299</td>\n",
              "      <td>32813194</td>\n",
              "    </tr>\n",
              "    <tr>\n",
              "      <th>2020-12-01</th>\n",
              "      <td>573.000</td>\n",
              "      <td>581.000</td>\n",
              "      <td>571.500</td>\n",
              "      <td>578.000</td>\n",
              "      <td>576.428528</td>\n",
              "      <td>22221870</td>\n",
              "    </tr>\n",
              "    <tr>\n",
              "      <th>2020-12-02</th>\n",
              "      <td>584.500</td>\n",
              "      <td>584.500</td>\n",
              "      <td>568.000</td>\n",
              "      <td>574.000</td>\n",
              "      <td>572.439392</td>\n",
              "      <td>13475083</td>\n",
              "    </tr>\n",
              "    <tr>\n",
              "      <th>2020-12-03</th>\n",
              "      <td>584.500</td>\n",
              "      <td>589.000</td>\n",
              "      <td>579.500</td>\n",
              "      <td>589.000</td>\n",
              "      <td>587.398621</td>\n",
              "      <td>15557202</td>\n",
              "    </tr>\n",
              "  </tbody>\n",
              "</table>\n",
              "<p>3930 rows × 6 columns</p>\n",
              "</div>\n",
              "      <button class=\"colab-df-convert\" onclick=\"convertToInteractive('df-370f0e63-2e4c-46ae-b4b5-3acbd486680a')\"\n",
              "              title=\"Convert this dataframe to an interactive table.\"\n",
              "              style=\"display:none;\">\n",
              "        \n",
              "  <svg xmlns=\"http://www.w3.org/2000/svg\" height=\"24px\"viewBox=\"0 0 24 24\"\n",
              "       width=\"24px\">\n",
              "    <path d=\"M0 0h24v24H0V0z\" fill=\"none\"/>\n",
              "    <path d=\"M18.56 5.44l.94 2.06.94-2.06 2.06-.94-2.06-.94-.94-2.06-.94 2.06-2.06.94zm-11 1L8.5 8.5l.94-2.06 2.06-.94-2.06-.94L8.5 2.5l-.94 2.06-2.06.94zm10 10l.94 2.06.94-2.06 2.06-.94-2.06-.94-.94-2.06-.94 2.06-2.06.94z\"/><path d=\"M17.41 7.96l-1.37-1.37c-.4-.4-.92-.59-1.43-.59-.52 0-1.04.2-1.43.59L10.3 9.45l-7.72 7.72c-.78.78-.78 2.05 0 2.83L4 21.41c.39.39.9.59 1.41.59.51 0 1.02-.2 1.41-.59l7.78-7.78 2.81-2.81c.8-.78.8-2.07 0-2.86zM5.41 20L4 18.59l7.72-7.72 1.47 1.35L5.41 20z\"/>\n",
              "  </svg>\n",
              "      </button>\n",
              "      \n",
              "  <style>\n",
              "    .colab-df-container {\n",
              "      display:flex;\n",
              "      flex-wrap:wrap;\n",
              "      gap: 12px;\n",
              "    }\n",
              "\n",
              "    .colab-df-convert {\n",
              "      background-color: #E8F0FE;\n",
              "      border: none;\n",
              "      border-radius: 50%;\n",
              "      cursor: pointer;\n",
              "      display: none;\n",
              "      fill: #1967D2;\n",
              "      height: 32px;\n",
              "      padding: 0 0 0 0;\n",
              "      width: 32px;\n",
              "    }\n",
              "\n",
              "    .colab-df-convert:hover {\n",
              "      background-color: #E2EBFA;\n",
              "      box-shadow: 0px 1px 2px rgba(60, 64, 67, 0.3), 0px 1px 3px 1px rgba(60, 64, 67, 0.15);\n",
              "      fill: #174EA6;\n",
              "    }\n",
              "\n",
              "    [theme=dark] .colab-df-convert {\n",
              "      background-color: #3B4455;\n",
              "      fill: #D2E3FC;\n",
              "    }\n",
              "\n",
              "    [theme=dark] .colab-df-convert:hover {\n",
              "      background-color: #434B5C;\n",
              "      box-shadow: 0px 1px 3px 1px rgba(0, 0, 0, 0.15);\n",
              "      filter: drop-shadow(0px 1px 2px rgba(0, 0, 0, 0.3));\n",
              "      fill: #FFFFFF;\n",
              "    }\n",
              "  </style>\n",
              "\n",
              "      <script>\n",
              "        const buttonEl =\n",
              "          document.querySelector('#df-370f0e63-2e4c-46ae-b4b5-3acbd486680a button.colab-df-convert');\n",
              "        buttonEl.style.display =\n",
              "          google.colab.kernel.accessAllowed ? 'block' : 'none';\n",
              "\n",
              "        async function convertToInteractive(key) {\n",
              "          const element = document.querySelector('#df-370f0e63-2e4c-46ae-b4b5-3acbd486680a');\n",
              "          const dataTable =\n",
              "            await google.colab.kernel.invokeFunction('convertToInteractive',\n",
              "                                                     [key], {});\n",
              "          if (!dataTable) return;\n",
              "\n",
              "          const docLinkHtml = 'Like what you see? Visit the ' +\n",
              "            '<a target=\"_blank\" href=https://colab.research.google.com/notebooks/data_table.ipynb>data table notebook</a>'\n",
              "            + ' to learn more about interactive tables.';\n",
              "          element.innerHTML = '';\n",
              "          dataTable['output_type'] = 'display_data';\n",
              "          await google.colab.output.renderOutput(dataTable, element);\n",
              "          const docLink = document.createElement('div');\n",
              "          docLink.innerHTML = docLinkHtml;\n",
              "          element.appendChild(docLink);\n",
              "        }\n",
              "      </script>\n",
              "    </div>\n",
              "  </div>\n",
              "  "
            ]
          },
          "metadata": {},
          "execution_count": 3
        }
      ],
      "source": [
        "# Getting the quote\n",
        "import math\n",
        "from pandas_datareader import data as pdr\n",
        "import yfinance as yfin\n",
        "import numpy as np\n",
        "import pandas as pd\n",
        "from sklearn.preprocessing import MinMaxScaler\n",
        "from keras.models import Sequential\n",
        "from keras.layers import Dense,LSTM\n",
        "import matplotlib.pyplot as plt\n",
        "\n",
        "plt.style.use(\"fivethirtyeight\")\n",
        "yfin.pdr_override()\n",
        "\n",
        "\n",
        "tencent = pdr.get_data_yahoo(\"0700.HK\", start='2005-01-03',end='2020-12-04')\n",
        "tencent"
      ]
    },
    {
      "cell_type": "code",
      "execution_count": 4,
      "metadata": {
        "colab": {
          "base_uri": "https://localhost:8080/",
          "height": 558
        },
        "id": "BDyBYEbjlmkj",
        "outputId": "e0b02785-20aa-43de-9426-eeac2d517a07"
      },
      "outputs": [
        {
          "output_type": "display_data",
          "data": {
            "text/plain": [
              "<Figure size 1152x576 with 1 Axes>"
            ],
            "image/png": "[encoded data removed]"
          },
          "metadata": {}
        }
      ],
      "source": [
        "plt.figure(figsize=(16, 8))\n",
        "plt.title(\"Adjusted Close price history for Tencent\")\n",
        "plt.plot(tencent[\"Adj Close\"])\n",
        "plt.xlabel(\"Dates\")\n",
        "plt.ylabel(\"Adjusted Close price (HK$\")\n",
        "plt.show()"
      ]
    },
    {
      "cell_type": "markdown",
      "metadata": {
        "id": "WF1Z_HpC-TRL"
      },
      "source": [
        "# Data Preprocessing"
      ]
    },
    {
      "cell_type": "code",
      "execution_count": 5,
      "metadata": {
        "colab": {
          "base_uri": "https://localhost:8080/"
        },
        "id": "wYyXQGyklXnq",
        "outputId": "69982b88-e6fd-452e-d7f6-c704b22e3e47"
      },
      "outputs": [
        {
          "output_type": "stream",
          "name": "stdout",
          "text": [
            "             Adj Close\n",
            "Date                  \n",
            "2005-01-03    0.893928\n",
            "2005-01-04    0.927752\n",
            "2005-01-05    0.908424\n",
            "2005-01-06    0.908424\n",
            "2005-01-07    0.908424\n",
            "...                ...\n",
            "2020-11-27  581.414917\n",
            "2020-11-30  561.469299\n",
            "2020-12-01  576.428528\n",
            "2020-12-02  572.439392\n",
            "2020-12-03  587.398621\n",
            "\n",
            "[3930 rows x 1 columns]\n",
            "\n",
            "The shape of npdata is: (3930, 1)\n"
          ]
        }
      ],
      "source": [
        "# Create a new dataframe and converting it into a numpy array\n",
        "adjclose=tencent.filter(['Adj Close'])\n",
        "print(adjclose)\n",
        "\n",
        "npdata = adjclose.values\n",
        "print(f\"\\nThe shape of npdata is: {npdata.shape}\")"
      ]
    },
    {
      "cell_type": "code",
      "execution_count": 6,
      "metadata": {
        "colab": {
          "base_uri": "https://localhost:8080/"
        },
        "id": "FMHMuSAeldZP",
        "outputId": "1099f7eb-829a-4638-c282-745a34eefeec"
      },
      "outputs": [
        {
          "output_type": "execute_result",
          "data": {
            "text/plain": [
              "3537"
            ]
          },
          "metadata": {},
          "execution_count": 6
        }
      ],
      "source": [
        "training_data_len = math.ceil(len(npdata)*0.9)\n",
        "training_data_len"
      ]
    },
    {
      "cell_type": "code",
      "execution_count": 7,
      "metadata": {
        "colab": {
          "base_uri": "https://localhost:8080/"
        },
        "id": "ls-fPUiznex6",
        "outputId": "70fc090b-6837-424e-ac9d-0c3c9c16ba46"
      },
      "outputs": [
        {
          "output_type": "execute_result",
          "data": {
            "text/plain": [
              "array([[9.31531118e-05],\n",
              "       [1.47492451e-04],\n",
              "       [1.16441414e-04],\n",
              "       ...,\n",
              "       [9.24699045e-01],\n",
              "       [9.18290432e-01],\n",
              "       [9.42322681e-01]])"
            ]
          },
          "metadata": {},
          "execution_count": 7
        }
      ],
      "source": [
        "# Normalising the data in a numpy array of adjclose\n",
        "scaler = MinMaxScaler(feature_range=(0, 1))\n",
        "scaled_data = scaler.fit_transform(npdata)\n",
        "scaled_data"
      ]
    },
    {
      "cell_type": "code",
      "execution_count": 8,
      "metadata": {
        "colab": {
          "base_uri": "https://localhost:8080/"
        },
        "id": "iuLSvpNvonUq",
        "outputId": "1d35ef6e-debc-4626-df49-2770313e988e"
      },
      "outputs": [
        {
          "output_type": "execute_result",
          "data": {
            "text/plain": [
              "array([[9.31531118e-05],\n",
              "       [1.47492451e-04],\n",
              "       [1.16441414e-04],\n",
              "       ...,\n",
              "       [6.22280089e-01],\n",
              "       [6.16544127e-01],\n",
              "       [5.97105756e-01]])"
            ]
          },
          "metadata": {},
          "execution_count": 8
        }
      ],
      "source": [
        "# Creating scaled training data\n",
        "train_data=scaled_data[0:training_data_len,:]\n",
        "\n",
        "x_train = []\n",
        "y_train = []\n",
        "\n",
        "for i in range(50, len(train_data)):\n",
        "  x_train.append(train_data[i-50:i,0])\n",
        "  y_train.append(train_data[i, 0])\n",
        "\n",
        "train_data"
      ]
    },
    {
      "cell_type": "code",
      "execution_count": 9,
      "metadata": {
        "colab": {
          "base_uri": "https://localhost:8080/"
        },
        "id": "YIA2HSw9pPTT",
        "outputId": "8cfb05c1-868a-431e-855b-fb5f786b1744"
      },
      "outputs": [
        {
          "output_type": "stream",
          "name": "stdout",
          "text": [
            "[[9.31531118e-05 1.47492451e-04 1.16441414e-04 ... 2.71696504e-04\n",
            "  2.40645275e-04 2.25119996e-04]\n",
            " [1.47492451e-04 1.16441414e-04 1.16441414e-04 ... 2.40645275e-04\n",
            "  2.25119996e-04 2.56170938e-04]\n",
            " [1.16441414e-04 1.16441414e-04 1.16441414e-04 ... 2.25119996e-04\n",
            "  2.56170938e-04 2.87221783e-04]\n",
            " ...\n",
            " [5.30505181e-01 5.40065053e-01 5.35285117e-01 ... 6.10489587e-01\n",
            "  6.21005436e-01 6.16862802e-01]\n",
            " [5.40065053e-01 5.35285117e-01 5.41977056e-01 ... 6.21005436e-01\n",
            "  6.16862802e-01 6.22280089e-01]\n",
            " [5.35285117e-01 5.41977056e-01 5.45482339e-01 ... 6.16862802e-01\n",
            "  6.22280089e-01 6.16544127e-01]]\n",
            "\n",
            "The shape of x_train is (3487, 50)\n"
          ]
        }
      ],
      "source": [
        "x_train = np.array(x_train)\n",
        "print(x_train)\n",
        "print(f\"\\nThe shape of x_train is {x_train.shape}\")"
      ]
    },
    {
      "cell_type": "code",
      "execution_count": 10,
      "metadata": {
        "colab": {
          "base_uri": "https://localhost:8080/"
        },
        "id": "dvGoJNAWpTqs",
        "outputId": "63fe0578-015e-4a93-f808-cbe6d1b14ef7"
      },
      "outputs": [
        {
          "output_type": "stream",
          "name": "stdout",
          "text": [
            "[2.56170938e-04 2.87221783e-04 3.80374608e-04 ... 6.22280089e-01\n",
            " 6.16544127e-01 5.97105756e-01]\n",
            "\n",
            "The shape of y_train is (3487,)\n"
          ]
        }
      ],
      "source": [
        "y_train = np.array(y_train)\n",
        "print(y_train)\n",
        "print(f\"\\nThe shape of y_train is {y_train.shape}\")"
      ]
    },
    {
      "cell_type": "code",
      "execution_count": 11,
      "metadata": {
        "colab": {
          "base_uri": "https://localhost:8080/"
        },
        "id": "X7lyqp5fpa-x",
        "outputId": "f7647887-c038-4134-8dbe-ebe970f90917"
      },
      "outputs": [
        {
          "output_type": "execute_result",
          "data": {
            "text/plain": [
              "(3487, 50, 1)"
            ]
          },
          "metadata": {},
          "execution_count": 11
        }
      ],
      "source": [
        "# Reshaping the x_train to be suitable for LSTM\n",
        "x_train = np.reshape(x_train, (x_train.shape[0], x_train.shape[1], 1))\n",
        "x_train.shape"
      ]
    },
    {
      "cell_type": "code",
      "execution_count": 12,
      "metadata": {
        "colab": {
          "base_uri": "https://localhost:8080/"
        },
        "id": "N-ICaJOBq5z-",
        "outputId": "092951bb-83ef-4ed7-ab24-4fb4963f1831"
      },
      "outputs": [
        {
          "output_type": "execute_result",
          "data": {
            "text/plain": [
              "array([[0.54197706],\n",
              "       [0.54548234],\n",
              "       [0.54675699],\n",
              "       [0.54643832],\n",
              "       [0.54516366],\n",
              "       [0.54070245],\n",
              "       [0.53369179],\n",
              "       [0.53432919],\n",
              "       [0.55121825],\n",
              "       [0.57448063],\n",
              "       [0.57543666],\n",
              "       [0.56460208],\n",
              "       [0.55153693],\n",
              "       [0.56396478],\n",
              "       [0.57384338],\n",
              "       [0.56970069],\n",
              "       [0.56842604],\n",
              "       [0.57065672],\n",
              "       [0.58627118],\n",
              "       [0.58818314],\n",
              "       [0.58818314],\n",
              "       [0.57702994],\n",
              "       [0.58021654],\n",
              "       [0.5623715 ],\n",
              "       [0.55854754],\n",
              "       [0.56364616],\n",
              "       [0.56269013],\n",
              "       [0.57384338],\n",
              "       [0.58021654],\n",
              "       [0.58180992],\n",
              "       [0.60092967],\n",
              "       [0.59774301],\n",
              "       [0.604435  ],\n",
              "       [0.60985224],\n",
              "       [0.61813745],\n",
              "       [0.62228009],\n",
              "       [0.626104  ],\n",
              "       [0.61718148],\n",
              "       [0.62578537],\n",
              "       [0.62897198],\n",
              "       [0.62259876],\n",
              "       [0.62482939],\n",
              "       [0.62482939],\n",
              "       [0.60857753],\n",
              "       [0.61048959],\n",
              "       [0.62100544],\n",
              "       [0.6168628 ],\n",
              "       [0.62228009],\n",
              "       [0.61654413],\n",
              "       [0.59710576],\n",
              "       [0.60539093],\n",
              "       [0.61176419],\n",
              "       [0.59710576],\n",
              "       [0.60730293],\n",
              "       [0.58913916],\n",
              "       [0.5945564 ],\n",
              "       [0.58117262],\n",
              "       [0.56711295],\n",
              "       [0.54506492],\n",
              "       [0.54378684],\n",
              "       [0.5402719 ],\n",
              "       [0.519502  ],\n",
              "       [0.51758475],\n",
              "       [0.51598711],\n",
              "       [0.51886294],\n",
              "       [0.51311124],\n",
              "       [0.51694569],\n",
              "       [0.519502  ],\n",
              "       [0.53164442],\n",
              "       [0.52141925],\n",
              "       [0.52749041],\n",
              "       [0.52653179],\n",
              "       [0.54666262],\n",
              "       [0.54921893],\n",
              "       [0.53771558],\n",
              "       [0.532603  ],\n",
              "       [0.52589272],\n",
              "       [0.52429503],\n",
              "       [0.53228349],\n",
              "       [0.55337289],\n",
              "       [0.56423713],\n",
              "       [0.56487624],\n",
              "       [0.56711295],\n",
              "       [0.55688778],\n",
              "       [0.55624877],\n",
              "       [0.56231988],\n",
              "       [0.56200042],\n",
              "       [0.57765768],\n",
              "       [0.57446229],\n",
              "       [0.57382328],\n",
              "       [0.57350367],\n",
              "       [0.55944405],\n",
              "       [0.55912454],\n",
              "       [0.56871064],\n",
              "       [0.56934976],\n",
              "       [0.56583482],\n",
              "       [0.57510136],\n",
              "       [0.57797724],\n",
              "       [0.57893586],\n",
              "       [0.56839113],\n",
              "       [0.57669905],\n",
              "       [0.56998878],\n",
              "       [0.57158647],\n",
              "       [0.58277031],\n",
              "       [0.59363455],\n",
              "       [0.59011965],\n",
              "       [0.59331504],\n",
              "       [0.59491273],\n",
              "       [0.58692427],\n",
              "       [0.5898001 ],\n",
              "       [0.56711295],\n",
              "       [0.54282821],\n",
              "       [0.53739607],\n",
              "       [0.53963283],\n",
              "       [0.54570404],\n",
              "       [0.53931327],\n",
              "       [0.54186954],\n",
              "       [0.53228349],\n",
              "       [0.54186954],\n",
              "       [0.52653179],\n",
              "       [0.52014107],\n",
              "       [0.53675701],\n",
              "       [0.53132481],\n",
              "       [0.53004673],\n",
              "       [0.52749041],\n",
              "       [0.532603  ],\n",
              "       [0.519502  ],\n",
              "       [0.51982156],\n",
              "       [0.50831821],\n",
              "       [0.51023541],\n",
              "       [0.51758475],\n",
              "       [0.52780997],\n",
              "       [0.52461464],\n",
              "       [0.54378684],\n",
              "       [0.54410635],\n",
              "       [0.54730173],\n",
              "       [0.54570404],\n",
              "       [0.54218915],\n",
              "       [0.55145569],\n",
              "       [0.55688778],\n",
              "       [0.55720734],\n",
              "       [0.55241427],\n",
              "       [0.54762124],\n",
              "       [0.54666262],\n",
              "       [0.53931327],\n",
              "       [0.53803514],\n",
              "       [0.53515931],\n",
              "       [0.53483976],\n",
              "       [0.52333645],\n",
              "       [0.52972717],\n",
              "       [0.52493414],\n",
              "       [0.52621233],\n",
              "       [0.51790431],\n",
              "       [0.51822387],\n",
              "       [0.51438942],\n",
              "       [0.51598711],\n",
              "       [0.50704008],\n",
              "       [0.50799865],\n",
              "       [0.51758475],\n",
              "       [0.52301694],\n",
              "       [0.52397547],\n",
              "       [0.52749041],\n",
              "       [0.52749041],\n",
              "       [0.52749041],\n",
              "       [0.51758475],\n",
              "       [0.52205827],\n",
              "       [0.5099159 ],\n",
              "       [0.50831821],\n",
              "       [0.50448376],\n",
              "       [0.51311124],\n",
              "       [0.50512288],\n",
              "       [0.50384474],\n",
              "       [0.51119404],\n",
              "       [0.51247222],\n",
              "       [0.52205827],\n",
              "       [0.5306858 ],\n",
              "       [0.53228349],\n",
              "       [0.53164442],\n",
              "       [0.52141925],\n",
              "       [0.51470893],\n",
              "       [0.52621233],\n",
              "       [0.52173876],\n",
              "       [0.50959634],\n",
              "       [0.5099159 ],\n",
              "       [0.52589272],\n",
              "       [0.53643745],\n",
              "       [0.53483976],\n",
              "       [0.52493414],\n",
              "       [0.53164442],\n",
              "       [0.53995229],\n",
              "       [0.53483976],\n",
              "       [0.53388118],\n",
              "       [0.53867421],\n",
              "       [0.52876855],\n",
              "       [0.5306858 ],\n",
              "       [0.52749041],\n",
              "       [0.52365596],\n",
              "       [0.52589272],\n",
              "       [0.53483976],\n",
              "       [0.53579838],\n",
              "       [0.53675701],\n",
              "       [0.54186954],\n",
              "       [0.55624877],\n",
              "       [0.57542097],\n",
              "       [0.57350367],\n",
              "       [0.59171735],\n",
              "       [0.60194251],\n",
              "       [0.59874713],\n",
              "       [0.59810806],\n",
              "       [0.60226202],\n",
              "       [0.60066433],\n",
              "       [0.61216768],\n",
              "       [0.61088955],\n",
              "       [0.59874713],\n",
              "       [0.60961137],\n",
              "       [0.61056999],\n",
              "       [0.60162291],\n",
              "       [0.61472395],\n",
              "       [0.6089723 ],\n",
              "       [0.62175378],\n",
              "       [0.63549385],\n",
              "       [0.64795577],\n",
              "       [0.63836967],\n",
              "       [0.63581335],\n",
              "       [0.6377306 ],\n",
              "       [0.63613291],\n",
              "       [0.63133984],\n",
              "       [0.61440444],\n",
              "       [0.62335148],\n",
              "       [0.61472395],\n",
              "       [0.61504346],\n",
              "       [0.61088955],\n",
              "       [0.59778851],\n",
              "       [0.59459312],\n",
              "       [0.60577692],\n",
              "       [0.62654681],\n",
              "       [0.62526868],\n",
              "       [0.6377306 ],\n",
              "       [0.64156501],\n",
              "       [0.63868923],\n",
              "       [0.65210973],\n",
              "       [0.65530511],\n",
              "       [0.66393259],\n",
              "       [0.66169588],\n",
              "       [0.66425215],\n",
              "       [0.65083165],\n",
              "       [0.65594418],\n",
              "       [0.65370742],\n",
              "       [0.6393283 ],\n",
              "       [0.6223928 ],\n",
              "       [0.64028692],\n",
              "       [0.63709154],\n",
              "       [0.63645247],\n",
              "       [0.61536302],\n",
              "       [0.62111472],\n",
              "       [0.6281445 ],\n",
              "       [0.6281445 ],\n",
              "       [0.64763626],\n",
              "       [0.63102028],\n",
              "       [0.60162291],\n",
              "       [0.61056999],\n",
              "       [0.6032206 ],\n",
              "       [0.57957493],\n",
              "       [0.58181164],\n",
              "       [0.54474537],\n",
              "       [0.55752685],\n",
              "       [0.53228349],\n",
              "       [0.54666262],\n",
              "       [0.57318416],\n",
              "       [0.55465107],\n",
              "       [0.5821312 ],\n",
              "       [0.60577692],\n",
              "       [0.60865269],\n",
              "       [0.60961137],\n",
              "       [0.60034482],\n",
              "       [0.60609647],\n",
              "       [0.59682988],\n",
              "       [0.60545741],\n",
              "       [0.60002526],\n",
              "       [0.60801367],\n",
              "       [0.61791933],\n",
              "       [0.61376533],\n",
              "       [0.62399049],\n",
              "       [0.62974219],\n",
              "       [0.62974219],\n",
              "       [0.64859484],\n",
              "       [0.65306841],\n",
              "       [0.65147071],\n",
              "       [0.63868923],\n",
              "       [0.65274885],\n",
              "       [0.65626379],\n",
              "       [0.64795577],\n",
              "       [0.6585005 ],\n",
              "       [0.66521082],\n",
              "       [0.66489127],\n",
              "       [0.6377306 ],\n",
              "       [0.64731675],\n",
              "       [0.65370742],\n",
              "       [0.64923395],\n",
              "       [0.66680847],\n",
              "       [0.69364957],\n",
              "       [0.6872588 ],\n",
              "       [0.68502204],\n",
              "       [0.68661974],\n",
              "       [0.67348212],\n",
              "       [0.67636598],\n",
              "       [0.68758101],\n",
              "       [0.70360249],\n",
              "       [0.6930283 ],\n",
              "       [0.65938318],\n",
              "       [0.66611223],\n",
              "       [0.68021112],\n",
              "       [0.67155953],\n",
              "       [0.65265423],\n",
              "       [0.65617892],\n",
              "       [0.68597885],\n",
              "       [0.68822189],\n",
              "       [0.69174664],\n",
              "       [0.69559177],\n",
              "       [0.69431006],\n",
              "       [0.68758101],\n",
              "       [0.69366918],\n",
              "       [0.71353585],\n",
              "       [0.70744768],\n",
              "       [0.70520464],\n",
              "       [0.69334879],\n",
              "       [0.71770138],\n",
              "       [0.7205853 ],\n",
              "       [0.7324412 ],\n",
              "       [0.73628634],\n",
              "       [0.75839604],\n",
              "       [0.79556586],\n",
              "       [0.78499167],\n",
              "       [0.77569919],\n",
              "       [0.77730134],\n",
              "       [0.79748845],\n",
              "       [0.82937115],\n",
              "       [0.83898407],\n",
              "       [0.83177445],\n",
              "       [0.82536584],\n",
              "       [0.86862383],\n",
              "       [0.9006668 ],\n",
              "       [0.87423134],\n",
              "       [0.86541952],\n",
              "       [0.83978517],\n",
              "       [0.86862383],\n",
              "       [0.82055938],\n",
              "       [0.83337656],\n",
              "       [0.83577976],\n",
              "       [0.902269  ],\n",
              "       [0.86221522],\n",
              "       [0.89105388],\n",
              "       [0.84459158],\n",
              "       [0.83177445],\n",
              "       [0.86942493],\n",
              "       [0.86622062],\n",
              "       [0.8558066 ],\n",
              "       [0.8542045 ],\n",
              "       [0.86221522],\n",
              "       [0.87983885],\n",
              "       [0.89746249],\n",
              "       [0.88865067],\n",
              "       [0.84379058],\n",
              "       [0.80293574],\n",
              "       [0.82136043],\n",
              "       [0.83257546],\n",
              "       [0.81575292],\n",
              "       [0.81014541],\n",
              "       [0.8069411 ],\n",
              "       [0.81895723],\n",
              "       [0.80934436],\n",
              "       [0.81254861],\n",
              "       [0.82857015],\n",
              "       [0.87663455],\n",
              "       [0.87102703],\n",
              "       [0.88224206],\n",
              "       [0.89265608],\n",
              "       [0.86461842],\n",
              "       [0.84859699],\n",
              "       [0.86221522],\n",
              "       [0.87182814],\n",
              "       [0.8542045 ],\n",
              "       [0.82857015],\n",
              "       [0.81735507],\n",
              "       [0.81334972],\n",
              "       [0.80614005],\n",
              "       [0.80934436],\n",
              "       [0.82536584],\n",
              "       [0.84699479],\n",
              "       [0.84699479],\n",
              "       [0.8550056 ],\n",
              "       [0.84298948],\n",
              "       [0.83978517],\n",
              "       [0.82616694],\n",
              "       [0.81815618],\n",
              "       [0.82216153],\n",
              "       [0.8077422 ],\n",
              "       [0.80533895],\n",
              "       [0.80934436],\n",
              "       [0.80854326],\n",
              "       [0.81815618],\n",
              "       [0.83978517],\n",
              "       [0.84379058],\n",
              "       [0.8558066 ],\n",
              "       [0.8558066 ],\n",
              "       [0.86301632],\n",
              "       [0.89105388],\n",
              "       [0.91748933],\n",
              "       [0.88304316],\n",
              "       [0.89105388],\n",
              "       [0.89826359],\n",
              "       [0.90307   ],\n",
              "       [0.90627431],\n",
              "       [0.9014679 ],\n",
              "       [0.89826359],\n",
              "       [0.93591407],\n",
              "       [0.96154852],\n",
              "       [0.96795703],\n",
              "       [0.94552699],\n",
              "       [0.96234952],\n",
              "       [0.95674201],\n",
              "       [0.94152158],\n",
              "       [1.        ],\n",
              "       [0.98317746],\n",
              "       [0.99599469],\n",
              "       [0.9519356 ],\n",
              "       [0.88144106],\n",
              "       [0.92309694],\n",
              "       [0.96315062],\n",
              "       [0.95513991],\n",
              "       [0.93030656],\n",
              "       [0.94232268],\n",
              "       [0.91668833],\n",
              "       [0.94072058],\n",
              "       [0.93751627],\n",
              "       [0.93431196],\n",
              "       [0.91668833],\n",
              "       [0.93751627],\n",
              "       [0.93270976],\n",
              "       [0.9006668 ],\n",
              "       [0.92469904],\n",
              "       [0.91829043],\n",
              "       [0.94232268]])"
            ]
          },
          "metadata": {},
          "execution_count": 12
        }
      ],
      "source": [
        "# Creating test data\n",
        "test_data = scaled_data[training_data_len-50:,:]\n",
        "x_test = []\n",
        "y_test = npdata[training_data_len:,:]\n",
        "\n",
        "for i in range(50, len(test_data)):\n",
        "  x_test.append(test_data[i-50:i,0])\n",
        "\n",
        "test_data"
      ]
    },
    {
      "cell_type": "code",
      "execution_count": 13,
      "metadata": {
        "colab": {
          "base_uri": "https://localhost:8080/"
        },
        "id": "fe2FOYFm5jBs",
        "outputId": "3c62a22c-76f6-426f-e679-efec63dfb6f1"
      },
      "outputs": [
        {
          "output_type": "execute_result",
          "data": {
            "text/plain": [
              "(393, 50)"
            ]
          },
          "metadata": {},
          "execution_count": 13
        }
      ],
      "source": [
        "x_test = np.array(x_test)\n",
        "x_test.shape"
      ]
    },
    {
      "cell_type": "code",
      "execution_count": 14,
      "metadata": {
        "colab": {
          "base_uri": "https://localhost:8080/"
        },
        "id": "jHh77r209YQs",
        "outputId": "fe85d3e5-b0be-47e0-91e2-adf51a719fc2"
      },
      "outputs": [
        {
          "output_type": "execute_result",
          "data": {
            "text/plain": [
              "(393, 50, 1)"
            ]
          },
          "metadata": {},
          "execution_count": 14
        }
      ],
      "source": [
        "# Reshaping x_test according to LSTM\n",
        "x_test = np.reshape(x_test, (x_test.shape[0], x_test.shape[1], 1))\n",
        "x_test.shape"
      ]
    },
    {
      "cell_type": "markdown",
      "metadata": {
        "id": "FXg_63aq-Guw"
      },
      "source": [
        "# Building the Model\n"
      ]
    },
    {
      "cell_type": "code",
      "execution_count": 15,
      "metadata": {
        "colab": {
          "base_uri": "https://localhost:8080/"
        },
        "id": "E9vFUvvPkr44",
        "outputId": "6aeae341-3699-4cff-dd27-33754aa4b421"
      },
      "outputs": [
        {
          "output_type": "stream",
          "name": "stdout",
          "text": [
            "Model: \"sequential\"\n",
            "_________________________________________________________________\n",
            " Layer (type)                Output Shape              Param #   \n",
            "=================================================================\n",
            " lstm (LSTM)                 (None, 50, 100)           40800     \n",
            "                                                                 \n",
            " lstm_1 (LSTM)               (None, 100)               80400     \n",
            "                                                                 \n",
            " dense (Dense)               (None, 50)                5050      \n",
            "                                                                 \n",
            " dense_1 (Dense)             (None, 1)                 51        \n",
            "                                                                 \n",
            "=================================================================\n",
            "Total params: 126,301\n",
            "Trainable params: 126,301\n",
            "Non-trainable params: 0\n",
            "_________________________________________________________________\n"
          ]
        }
      ],
      "source": [
        "# Creating the model\n",
        "\n",
        "model = Sequential()\n",
        "model.add(LSTM(units=100,return_sequences=True,input_shape=(x_train.shape[1],1)))\n",
        "model.add(LSTM(units=100,return_sequences=False))\n",
        "model.add(Dense(units=50))\n",
        "model.add(Dense(units=1))\n",
        "model.summary()"
      ]
    },
    {
      "cell_type": "code",
      "execution_count": 16,
      "metadata": {
        "id": "sisk1uvoqlBo"
      },
      "outputs": [],
      "source": [
        "# Compiling the model\n",
        "\n",
        "model.compile(optimizer=\"adam\", loss=\"mean_squared_error\")"
      ]
    },
    {
      "cell_type": "code",
      "execution_count": 17,
      "metadata": {
        "colab": {
          "base_uri": "https://localhost:8080/"
        },
        "id": "AGAvqLQuqtB5",
        "outputId": "1b48556f-c10a-41b8-8c17-5d86ca960f24"
      },
      "outputs": [
        {
          "output_type": "stream",
          "name": "stdout",
          "text": [
            "Epoch 1/20\n",
            "698/698 [==============================] - 32s 32ms/step - loss: 6.5685e-04\n",
            "Epoch 2/20\n",
            "698/698 [==============================] - 20s 28ms/step - loss: 2.7323e-04\n",
            "Epoch 3/20\n",
            "698/698 [==============================] - 22s 31ms/step - loss: 1.4578e-04\n",
            "Epoch 4/20\n",
            "698/698 [==============================] - 19s 27ms/step - loss: 2.1441e-04\n",
            "Epoch 5/20\n",
            "698/698 [==============================] - 19s 27ms/step - loss: 1.0469e-04\n",
            "Epoch 6/20\n",
            "698/698 [==============================] - 19s 27ms/step - loss: 1.2519e-04\n",
            "Epoch 7/20\n",
            "698/698 [==============================] - 19s 27ms/step - loss: 1.0142e-04\n",
            "Epoch 8/20\n",
            "698/698 [==============================] - 19s 27ms/step - loss: 7.6252e-05\n",
            "Epoch 9/20\n",
            "698/698 [==============================] - 20s 28ms/step - loss: 9.9537e-05\n",
            "Epoch 10/20\n",
            "698/698 [==============================] - 19s 27ms/step - loss: 7.3875e-05\n",
            "Epoch 11/20\n",
            "698/698 [==============================] - 19s 27ms/step - loss: 6.7815e-05\n",
            "Epoch 12/20\n",
            "698/698 [==============================] - 19s 27ms/step - loss: 8.7444e-05\n",
            "Epoch 13/20\n",
            "698/698 [==============================] - 19s 27ms/step - loss: 7.1880e-05\n",
            "Epoch 14/20\n",
            "698/698 [==============================] - 19s 27ms/step - loss: 5.9254e-05\n",
            "Epoch 15/20\n",
            "698/698 [==============================] - 19s 27ms/step - loss: 5.5421e-05\n",
            "Epoch 16/20\n",
            "698/698 [==============================] - 19s 27ms/step - loss: 9.5168e-05\n",
            "Epoch 17/20\n",
            "698/698 [==============================] - 19s 27ms/step - loss: 5.5829e-05\n",
            "Epoch 18/20\n",
            "698/698 [==============================] - 19s 27ms/step - loss: 6.2047e-05\n",
            "Epoch 19/20\n",
            "698/698 [==============================] - 19s 27ms/step - loss: 5.1305e-05\n",
            "Epoch 20/20\n",
            "698/698 [==============================] - 19s 27ms/step - loss: 8.1924e-05\n"
          ]
        },
        {
          "output_type": "execute_result",
          "data": {
            "text/plain": [
              "<keras.callbacks.History at 0x7f9a7d6ce810>"
            ]
          },
          "metadata": {},
          "execution_count": 17
        }
      ],
      "source": [
        "# Training the model\n",
        "\n",
        "model.fit(x_train, y_train, batch_size=5, epochs=20)"
      ]
    },
    {
      "cell_type": "markdown",
      "metadata": {
        "id": "sAa-PqX--euE"
      },
      "source": [
        "# Testing the Model"
      ]
    },
    {
      "cell_type": "code",
      "execution_count": 21,
      "metadata": {
        "colab": {
          "base_uri": "https://localhost:8080/"
        },
        "id": "8cmqCGTD-kdn",
        "outputId": "09e1675c-395c-463e-eeb2-f124f83f6e38"
      },
      "outputs": [
        {
          "output_type": "stream",
          "name": "stdout",
          "text": [
            "RMSE value is 10.394750553026737\n"
          ]
        }
      ],
      "source": [
        "preds = model.predict(x_test)\n",
        "preds = scaler.inverse_transform(preds) # inversing the previously done scaling to get actual value of adj close price instead of normalised value\n",
        "\n",
        "rmse = np.sqrt(np.mean(((preds-y_test) ** 2)))\n",
        "\n",
        "print(f\"RMSE value is {rmse}\")"
      ]
    },
    {
      "cell_type": "markdown",
      "metadata": {
        "id": "T6Efu9Ej-rux"
      },
      "source": [
        "# Testing the Data"
      ]
    },
    {
      "cell_type": "code",
      "execution_count": 22,
      "metadata": {
        "colab": {
          "base_uri": "https://localhost:8080/",
          "height": 559
        },
        "id": "UzmL7-Rx-tn5",
        "outputId": "542a14c1-be79-4da0-d935-e99f4e195846"
      },
      "outputs": [
        {
          "output_type": "stream",
          "name": "stderr",
          "text": [
            "/usr/local/lib/python3.7/dist-packages/ipykernel_launcher.py:3: SettingWithCopyWarning: \n",
            "A value is trying to be set on a copy of a slice from a DataFrame.\n",
            "Try using .loc[row_indexer,col_indexer] = value instead\n",
            "\n",
            "See the caveats in the documentation: https://pandas.pydata.org/pandas-docs/stable/user_guide/indexing.html#returning-a-view-versus-a-copy\n",
            "  This is separate from the ipykernel package so we can avoid doing imports until\n"
          ]
        },
        {
          "output_type": "execute_result",
          "data": {
            "text/plain": [
              "             Adj Close  Predictions\n",
              "Date                               \n",
              "2019-05-07  377.670471   375.073151\n",
              "2019-05-08  381.637604   382.292603\n",
              "2019-05-09  372.513245   386.017517\n",
              "2019-05-10  378.860626   375.697601\n",
              "2019-05-14  367.554321   384.180115\n",
              "...                ...          ...\n",
              "2020-11-27  581.414917   590.918945\n",
              "2020-11-30  561.469299   584.114136\n",
              "2020-12-01  576.428528   561.342896\n",
              "2020-12-02  572.439392   583.178589\n",
              "2020-12-03  587.398621   574.654785\n",
              "\n",
              "[393 rows x 2 columns]"
            ],
            "text/html": [
              "\n",
              "  <div id=\"df-20a02f76-9c88-4b50-a211-c447466d66ce\">\n",
              "    <div class=\"colab-df-container\">\n",
              "      <div>\n",
              "<style scoped>\n",
              "    .dataframe tbody tr th:only-of-type {\n",
              "        vertical-align: middle;\n",
              "    }\n",
              "\n",
              "    .dataframe tbody tr th {\n",
              "        vertical-align: top;\n",
              "    }\n",
              "\n",
              "    .dataframe thead th {\n",
              "        text-align: right;\n",
              "    }\n",
              "</style>\n",
              "<table border=\"1\" class=\"dataframe\">\n",
              "  <thead>\n",
              "    <tr style=\"text-align: right;\">\n",
              "      <th></th>\n",
              "      <th>Adj Close</th>\n",
              "      <th>Predictions</th>\n",
              "    </tr>\n",
              "    <tr>\n",
              "      <th>Date</th>\n",
              "      <th></th>\n",
              "      <th></th>\n",
              "    </tr>\n",
              "  </thead>\n",
              "  <tbody>\n",
              "    <tr>\n",
              "      <th>2019-05-07</th>\n",
              "      <td>377.670471</td>\n",
              "      <td>375.073151</td>\n",
              "    </tr>\n",
              "    <tr>\n",
              "      <th>2019-05-08</th>\n",
              "      <td>381.637604</td>\n",
              "      <td>382.292603</td>\n",
              "    </tr>\n",
              "    <tr>\n",
              "      <th>2019-05-09</th>\n",
              "      <td>372.513245</td>\n",
              "      <td>386.017517</td>\n",
              "    </tr>\n",
              "    <tr>\n",
              "      <th>2019-05-10</th>\n",
              "      <td>378.860626</td>\n",
              "      <td>375.697601</td>\n",
              "    </tr>\n",
              "    <tr>\n",
              "      <th>2019-05-14</th>\n",
              "      <td>367.554321</td>\n",
              "      <td>384.180115</td>\n",
              "    </tr>\n",
              "    <tr>\n",
              "      <th>...</th>\n",
              "      <td>...</td>\n",
              "      <td>...</td>\n",
              "    </tr>\n",
              "    <tr>\n",
              "      <th>2020-11-27</th>\n",
              "      <td>581.414917</td>\n",
              "      <td>590.918945</td>\n",
              "    </tr>\n",
              "    <tr>\n",
              "      <th>2020-11-30</th>\n",
              "      <td>561.469299</td>\n",
              "      <td>584.114136</td>\n",
              "    </tr>\n",
              "    <tr>\n",
              "      <th>2020-12-01</th>\n",
              "      <td>576.428528</td>\n",
              "      <td>561.342896</td>\n",
              "    </tr>\n",
              "    <tr>\n",
              "      <th>2020-12-02</th>\n",
              "      <td>572.439392</td>\n",
              "      <td>583.178589</td>\n",
              "    </tr>\n",
              "    <tr>\n",
              "      <th>2020-12-03</th>\n",
              "      <td>587.398621</td>\n",
              "      <td>574.654785</td>\n",
              "    </tr>\n",
              "  </tbody>\n",
              "</table>\n",
              "<p>393 rows × 2 columns</p>\n",
              "</div>\n",
              "      <button class=\"colab-df-convert\" onclick=\"convertToInteractive('df-20a02f76-9c88-4b50-a211-c447466d66ce')\"\n",
              "              title=\"Convert this dataframe to an interactive table.\"\n",
              "              style=\"display:none;\">\n",
              "        \n",
              "  <svg xmlns=\"http://www.w3.org/2000/svg\" height=\"24px\"viewBox=\"0 0 24 24\"\n",
              "       width=\"24px\">\n",
              "    <path d=\"M0 0h24v24H0V0z\" fill=\"none\"/>\n",
              "    <path d=\"M18.56 5.44l.94 2.06.94-2.06 2.06-.94-2.06-.94-.94-2.06-.94 2.06-2.06.94zm-11 1L8.5 8.5l.94-2.06 2.06-.94-2.06-.94L8.5 2.5l-.94 2.06-2.06.94zm10 10l.94 2.06.94-2.06 2.06-.94-2.06-.94-.94-2.06-.94 2.06-2.06.94z\"/><path d=\"M17.41 7.96l-1.37-1.37c-.4-.4-.92-.59-1.43-.59-.52 0-1.04.2-1.43.59L10.3 9.45l-7.72 7.72c-.78.78-.78 2.05 0 2.83L4 21.41c.39.39.9.59 1.41.59.51 0 1.02-.2 1.41-.59l7.78-7.78 2.81-2.81c.8-.78.8-2.07 0-2.86zM5.41 20L4 18.59l7.72-7.72 1.47 1.35L5.41 20z\"/>\n",
              "  </svg>\n",
              "      </button>\n",
              "      \n",
              "  <style>\n",
              "    .colab-df-container {\n",
              "      display:flex;\n",
              "      flex-wrap:wrap;\n",
              "      gap: 12px;\n",
              "    }\n",
              "\n",
              "    .colab-df-convert {\n",
              "      background-color: #E8F0FE;\n",
              "      border: none;\n",
              "      border-radius: 50%;\n",
              "      cursor: pointer;\n",
              "      display: none;\n",
              "      fill: #1967D2;\n",
              "      height: 32px;\n",
              "      padding: 0 0 0 0;\n",
              "      width: 32px;\n",
              "    }\n",
              "\n",
              "    .colab-df-convert:hover {\n",
              "      background-color: #E2EBFA;\n",
              "      box-shadow: 0px 1px 2px rgba(60, 64, 67, 0.3), 0px 1px 3px 1px rgba(60, 64, 67, 0.15);\n",
              "      fill: #174EA6;\n",
              "    }\n",
              "\n",
              "    [theme=dark] .colab-df-convert {\n",
              "      background-color: #3B4455;\n",
              "      fill: #D2E3FC;\n",
              "    }\n",
              "\n",
              "    [theme=dark] .colab-df-convert:hover {\n",
              "      background-color: #434B5C;\n",
              "      box-shadow: 0px 1px 3px 1px rgba(0, 0, 0, 0.15);\n",
              "      filter: drop-shadow(0px 1px 2px rgba(0, 0, 0, 0.3));\n",
              "      fill: #FFFFFF;\n",
              "    }\n",
              "  </style>\n",
              "\n",
              "      <script>\n",
              "        const buttonEl =\n",
              "          document.querySelector('#df-20a02f76-9c88-4b50-a211-c447466d66ce button.colab-df-convert');\n",
              "        buttonEl.style.display =\n",
              "          google.colab.kernel.accessAllowed ? 'block' : 'none';\n",
              "\n",
              "        async function convertToInteractive(key) {\n",
              "          const element = document.querySelector('#df-20a02f76-9c88-4b50-a211-c447466d66ce');\n",
              "          const dataTable =\n",
              "            await google.colab.kernel.invokeFunction('convertToInteractive',\n",
              "                                                     [key], {});\n",
              "          if (!dataTable) return;\n",
              "\n",
              "          const docLinkHtml = 'Like what you see? Visit the ' +\n",
              "            '<a target=\"_blank\" href=https://colab.research.google.com/notebooks/data_table.ipynb>data table notebook</a>'\n",
              "            + ' to learn more about interactive tables.';\n",
              "          element.innerHTML = '';\n",
              "          dataTable['output_type'] = 'display_data';\n",
              "          await google.colab.output.renderOutput(dataTable, element);\n",
              "          const docLink = document.createElement('div');\n",
              "          docLink.innerHTML = docLinkHtml;\n",
              "          element.appendChild(docLink);\n",
              "        }\n",
              "      </script>\n",
              "    </div>\n",
              "  </div>\n",
              "  "
            ]
          },
          "metadata": {},
          "execution_count": 22
        }
      ],
      "source": [
        "train = adjclose[:training_data_len]\n",
        "valid = adjclose[training_data_len:]\n",
        "valid[\"Predictions\"] = preds\n",
        "\n",
        "valid"
      ]
    },
    {
      "cell_type": "code",
      "execution_count": 28,
      "metadata": {
        "colab": {
          "base_uri": "https://localhost:8080/",
          "height": 558
        },
        "id": "a-e6VMgeApqV",
        "outputId": "b3dd61f5-b98b-4029-cbb0-81b9289a9b93"
      },
      "outputs": [
        {
          "output_type": "display_data",
          "data": {
            "text/plain": [
              "<Figure size 1152x576 with 1 Axes>"
            ],
            "image/png": "[encoded data removed]"
          },
          "metadata": {}
        }
      ],
      "source": [
        "# Plotting the predicted data against the training data to visualize accuracy\n",
        "\n",
        "plt.figure(figsize=(16, 8))\n",
        "plt.title(\"Stock Price Prediction: Tencent\")\n",
        "plt.xlabel(\"Date\")\n",
        "plt.ylabel(\"Adjusted Close Price (HK$)\")\n",
        "plt.plot(train[\"Adj Close\"])\n",
        "plt.plot(valid[[\"Adj Close\", \"Predictions\"]])\n",
        "plt.legend(['Train','Val','Predictions'],loc='lower right')\n",
        "plt.show()"
      ]
    }
  ],
  "metadata": {
    "accelerator": "GPU",
    "colab": {
      "collapsed_sections": [],
      "name": "Tencent_Price_Prediction.ipynb",
      "provenance": []
    },
    "kernelspec": {
      "display_name": "Python 3",
      "name": "python3"
    },
    "language_info": {
      "codemirror_mode": {
        "name": "ipython",
        "version": 3
      },
      "file_extension": ".py",
      "mimetype": "text/x-python",
      "name": "python",
      "nbconvert_exporter": "python",
      "pygments_lexer": "ipython3",
      "version": "3.10.1"
    }
  },
  "nbformat": 4,
  "nbformat_minor": 0
}